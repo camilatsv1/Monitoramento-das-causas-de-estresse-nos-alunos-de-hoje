{
 "cells": [
  {
   "cell_type": "markdown",
   "id": "a68d40f8",
   "metadata": {},
   "source": [
    "#Monitoramento das causas de estresse nos alunos de hoje"
   ]
  },
  {
   "cell_type": "markdown",
   "id": "f72d0055",
   "metadata": {},
   "source": [
    "##Importando bibliotecas"
   ]
  },
  {
   "cell_type": "code",
   "execution_count": 1,
   "id": "4511bfb4",
   "metadata": {},
   "outputs": [],
   "source": [
    "import pandas as pd\n",
    "import numpy as numpy\n",
    "import matplotlib as plt\n",
    "import seaborn as sns"
   ]
  },
  {
   "cell_type": "markdown",
   "id": "5bbe338c",
   "metadata": {},
   "source": [
    "##Checando os dados"
   ]
  },
  {
   "cell_type": "code",
   "execution_count": 2,
   "id": "f80717d6",
   "metadata": {},
   "outputs": [],
   "source": [
    "df = pd.read_csv('C:/Users/Cliente/Desktop/vscode/Primeira análise/archive/Stress_Dataset.csv')"
   ]
  },
  {
   "cell_type": "code",
   "execution_count": 3,
   "id": "94ecfa27",
   "metadata": {},
   "outputs": [
    {
     "data": {
      "text/plain": [
       "Index(['Gender', 'Age', 'Have you recently experienced stress in your life?',\n",
       "       'Have you noticed a rapid heartbeat or palpitations?',\n",
       "       'Have you been dealing with anxiety or tension recently?',\n",
       "       'Do you face any sleep problems or difficulties falling asleep?',\n",
       "       'Have you been dealing with anxiety or tension recently?.1',\n",
       "       'Have you been getting headaches more often than usual?',\n",
       "       'Do you get irritated easily?',\n",
       "       'Do you have trouble concentrating on your academic tasks?',\n",
       "       'Have you been feeling sadness or low mood?',\n",
       "       'Have you been experiencing any illness or health issues?',\n",
       "       'Do you often feel lonely or isolated?',\n",
       "       'Do you feel overwhelmed with your academic workload?',\n",
       "       'Are you in competition with your peers, and does it affect you?',\n",
       "       'Do you find that your relationship often causes you stress?',\n",
       "       'Are you facing any difficulties with your professors or instructors?',\n",
       "       'Is your working environment unpleasant or stressful?',\n",
       "       'Do you struggle to find time for relaxation and leisure activities?',\n",
       "       'Is your hostel or home environment causing you difficulties?',\n",
       "       'Do you lack confidence in your academic performance?',\n",
       "       'Do you lack confidence in your choice of academic subjects?',\n",
       "       'Academic and extracurricular activities conflicting for you?',\n",
       "       'Do you attend classes regularly?', 'Have you gained/lost weight?',\n",
       "       'Which type of stress do you primarily experience?'],\n",
       "      dtype='object')"
      ]
     },
     "execution_count": 3,
     "metadata": {},
     "output_type": "execute_result"
    }
   ],
   "source": [
    "df.columns"
   ]
  },
  {
   "cell_type": "markdown",
   "id": "4a07a64c",
   "metadata": {},
   "source": [
    "##Dicionário de colunas\n",
    "\n",
    "* Gender: gênero do estudante; 0 (Male), 1 (Female)\n",
    "* Age: Idade numérica (18 a 21)\n",
    "\n",
    "###Indicadores emocionais e de estresse\n",
    "\n",
    "* Have you recently experienced stress in your life?: Você passou por algum estresse recentemente?\n",
    "* Have you noticed a rapid heartbeat or palpitations?: Você notou batimentos cardíacos acelerados ou palpitações?\n",
    "* Have you been dealing with anxiety or tension recently?: Você tem lidado com ansiedade ou tensão recentemente?\n",
    "* Do you face any sleep problems or difficulties falling asleep?: Você enfrenta algum problema de sono ou dificuldade para dormir?\n",
    "* Do you have trouble concentrating on your academic tasks?: Você tem dificuldade para se concentrar em suas tarefas acadêmicas?\n",
    "* Have you been feeling sadness or low mood?: Você tem se sentido triste ou de mau humor?\n",
    "* Do you get irritated easily?: Você se irrita facilmente?\n",
    "* Do you often feel lonely or isolated?: Você costuma se sentir solitário ou isolado?\n",
    "\n",
    "###Indicadores Físicos e de Saúde\n",
    "\n",
    "* Have you been getting headaches more often than usual?: Você tem tido dores de cabeça com mais frequência do que o normal?\n",
    "* Have you been experiencing any illness or health issues?: Você tem enfrentado alguma doença ou problema de saúde?\n",
    "* Have you gained/lost weight?: Você ganhou/perdeu peso?\n",
    "###Estressores Acadêmicos e Ambientais\n",
    "* Do you feel overwhelmed with your academic workload?: Você se sente sobrecarregado com sua carga de trabalho acadêmica?\n",
    "* Are you in competition with your peers, and does it affect you?: Você está competindo com seus colegas e isso afeta você?\n",
    "* Do you lack confidence in your academic performance?: Você não tem confiança no seu desempenho acadêmico?\n",
    "* Do you lack confidence in your choice of academic subjects?: Você não tem confiança na sua escolha de disciplinas acadêmicas?\n",
    "* Academic and extracurricular activities conflicting for you?: Atividades acadêmicas e extracurriculares são conflitantes para você?\n",
    "* Do you attend classes regularly?: Você frequenta as aulas regularmente?\n",
    "* Are you facing any difficulties with your professors or instructors?: Você está enfrentando alguma dificuldade com seus professores ou instrutores?\n",
    "* Is your working environment unpleasant or stressful?: Seu ambiente de trabalho é desagradável ou estressante?\n",
    "* Is your hostel or home environment causing you difficulties?: O seu albergue ou ambiente doméstico está lhe causando dificuldades?\n",
    "\n",
    "###Fatores sociais e de relacionamento\n",
    "\n",
    "* Do you find that your relationship often causes you stress?: Você acha que seu relacionamento frequentemente lhe causa estresse?\n",
    "* Do you struggle to find time for relaxation and leisure activities?: Você tem dificuldade em encontrar tempo para relaxamento e atividades de lazer?\n",
    "\n",
    "###Variável de destino\n",
    "\n",
    "* Which type of stress do you primarily experience?: Eustress, Distress, No Stress Que tipo de estresse você vivencia principalmente?: Eustresse, Angústia, Sem Estresse"
   ]
  }
 ],
 "metadata": {
  "kernelspec": {
   "display_name": "Python 3",
   "language": "python",
   "name": "python3"
  },
  "language_info": {
   "codemirror_mode": {
    "name": "ipython",
    "version": 3
   },
   "file_extension": ".py",
   "mimetype": "text/x-python",
   "name": "python",
   "nbconvert_exporter": "python",
   "pygments_lexer": "ipython3",
   "version": "3.13.6"
  }
 },
 "nbformat": 4,
 "nbformat_minor": 5
}
